{
 "cells": [
  {
   "cell_type": "markdown",
   "id": "00c88564-1b07-4e33-851e-fd1774c23991",
   "metadata": {
    "tags": []
   },
   "source": [
    "# Delete Data"
   ]
  },
  {
   "cell_type": "code",
   "execution_count": 1,
   "id": "5a410c4e-7fb4-4640-b9d6-90633a6d47ba",
   "metadata": {},
   "outputs": [],
   "source": [
    "import os\n",
    "from glob import glob"
   ]
  },
  {
   "cell_type": "markdown",
   "id": "fa064a49-3db8-4066-91ae-c330d831620c",
   "metadata": {
    "hidden": true
   },
   "source": [
    "<a id='table-of-contents'></a>\n",
    "\n",
    "## [Table of Contents](#table-of-contents)"
   ]
  },
  {
   "cell_type": "markdown",
   "id": "581e1651-f546-4af9-b9f2-0b0af11910a7",
   "metadata": {
    "hidden": true
   },
   "source": [
    "1. [About](#about)\n",
    "2. [User Inputs](#user-inputs)\n",
    "3. [Delete Files and Folders](#delete-files-and-folders)\n",
    "   - 3.1 [Delete Raw and Supplementary Datasets](#delete-raw-and-supplementary-datasets)"
   ]
  },
  {
   "cell_type": "markdown",
   "id": "ea7eadfa-0dec-4c1d-bd6e-8000ae29ee3e",
   "metadata": {
    "hidden": true
   },
   "source": [
    "<a id='about'></a>\n",
    "\n",
    "## 1. About"
   ]
  },
  {
   "cell_type": "markdown",
   "id": "09d87fe2-a2d8-4912-a998-9305f9cdd959",
   "metadata": {
    "hidden": true
   },
   "source": [
    "This notebook will delete all data files that were downloaded and used in the data analysis performed in this project.\n",
    "\n",
    "Although we should delete raw and processed data files, since we only have raw data files for this project we will just delete those files here."
   ]
  },
  {
   "cell_type": "markdown",
   "id": "219277e3-b50d-433b-9cf1-57c1253a5844",
   "metadata": {
    "hidden": true
   },
   "source": [
    "<a id='user-inputs'></a>\n",
    "\n",
    "## 2. User Inputs"
   ]
  },
  {
   "cell_type": "code",
   "execution_count": 2,
   "id": "95c18846-b91a-4876-84a9-54bc0af3d0ed",
   "metadata": {
    "tags": [
     "parameters"
    ]
   },
   "outputs": [],
   "source": [
    "path_to_raw_data_dir = \"data/raw\""
   ]
  },
  {
   "cell_type": "markdown",
   "id": "9db65c74-0424-4b9d-b175-2cc994a7ade4",
   "metadata": {
    "hidden": true
   },
   "source": [
    "<a id='delete-files-and-folders'></a>\n",
    "\n",
    "## 3. Delete Files and Folders"
   ]
  },
  {
   "cell_type": "markdown",
   "id": "bedbbbec-18cb-47cc-af50-e62d7dce736f",
   "metadata": {},
   "source": [
    "We'll now delete the raw extracted CSV files and any data folders that were downloaded and stored in `data/raw`."
   ]
  },
  {
   "cell_type": "markdown",
   "id": "48bead27-c001-4401-8092-0054b148e93c",
   "metadata": {},
   "source": [
    "<a id='delete-raw-and-supplementary-datasets'></a>\n",
    "\n",
    "### 3.1. Delete Raw and Supplementary Datasets"
   ]
  },
  {
   "cell_type": "markdown",
   "id": "6cbe336a-7ca1-48f6-930b-18e5a15a0293",
   "metadata": {},
   "source": [
    "As mentioned above, since we only have raw data files (no raw data folders or processed data files), we'll only delete those files in this section."
   ]
  },
  {
   "cell_type": "markdown",
   "id": "543f3867-e6bf-42a3-9aa6-325cc8817aef",
   "metadata": {},
   "source": [
    "Get a list of all the CSV files of bikeshare ridership that were downloaded"
   ]
  },
  {
   "cell_type": "code",
   "execution_count": 3,
   "id": "ebecc39e-d476-4912-9f57-c540c94c4d9d",
   "metadata": {},
   "outputs": [],
   "source": [
    "raw_data_files = glob(f\"{path_to_raw_data_dir}/*.csv\")"
   ]
  },
  {
   "cell_type": "markdown",
   "id": "25f91db9-e227-4b2b-b60d-ad2b0595c1fa",
   "metadata": {},
   "source": [
    "Delete all the downloaded CSV files"
   ]
  },
  {
   "cell_type": "code",
   "execution_count": 4,
   "id": "cef24261-0dd3-485e-8985-6cbf7110a7ab",
   "metadata": {},
   "outputs": [],
   "source": [
    "for f in raw_data_files:\n",
    "    os.remove(f)"
   ]
  },
  {
   "cell_type": "markdown",
   "id": "8078d334-a7ca-4c35-8e4f-3ca74a2ac645",
   "metadata": {
    "hidden": true
   },
   "source": [
    "---"
   ]
  },
  {
   "cell_type": "markdown",
   "id": "41166d08-2137-46fb-922d-c5c5cf77b4a7",
   "metadata": {
    "hidden": true
   },
   "source": [
    "<span style=\"float:left;\">\n",
    "    <a href=\"./01_dont_do_this.ipynb\"><< 02_get_data.ipynb</a>\n",
    "</span>\n",
    "\n",
    "<span style=\"float:right;\">\n",
    "    &#169; 2022 | <a href=\"https://github.com/elsdes3/documentation-tips\\\">@elsdes3</a> (MIT)\n",
    "</span>"
   ]
  }
 ],
 "metadata": {
  "kernelspec": {
   "display_name": "Python 3 (ipykernel)",
   "language": "python",
   "name": "python3"
  },
  "language_info": {
   "codemirror_mode": {
    "name": "ipython",
    "version": 3
   },
   "file_extension": ".py",
   "mimetype": "text/x-python",
   "name": "python",
   "nbconvert_exporter": "python",
   "pygments_lexer": "ipython3",
   "version": "3.9.7"
  }
 },
 "nbformat": 4,
 "nbformat_minor": 5
}
