{
 "cells": [
  {
   "cell_type": "markdown",
   "id": "75b28321-1dcc-40a0-818d-935f26a5c975",
   "metadata": {},
   "source": [
    "Download the ChromeDriver 97.0.4692.71: https://chromedriver.chromium.org/downloads. This requires Google chrome version 97.0.4692.71.\n",
    "\n",
    "Download the bikeshare data from here: https://s3.amazonaws.com/capitalbikeshare-data/index.html\n",
    "\n",
    "Install Python libraries: selenium, pandas"
   ]
  },
  {
   "cell_type": "code",
   "execution_count": 1,
   "id": "f4f79760-d324-4e71-a921-4b8d4991e4ec",
   "metadata": {
    "tags": []
   },
   "outputs": [],
   "source": [
    "# !pip3 install selenium pandas"
   ]
  },
  {
   "cell_type": "code",
   "execution_count": 2,
   "id": "28c831d2-f6cd-4fd6-be35-04d884b9af89",
   "metadata": {},
   "outputs": [],
   "source": [
    "import os"
   ]
  },
  {
   "cell_type": "code",
   "execution_count": 3,
   "id": "da94582b-92c3-496c-afd5-fea5bf1dcc83",
   "metadata": {},
   "outputs": [],
   "source": [
    "from selenium.webdriver.chrome.options import Options\n",
    "from selenium import webdriver\n",
    "from selenium.webdriver.chrome.service import Service"
   ]
  },
  {
   "cell_type": "code",
   "execution_count": 4,
   "id": "bcd74e55-9779-4c0f-b779-c2989ea02f40",
   "metadata": {},
   "outputs": [],
   "source": [
    "# Path to the Chrome webdriver on local system\n",
    "user_name = os.getenv(\"USERNAME\")\n",
    "webdriver_path = f\"/home/{user_name}/chromedriver_linux64/chromedriver\"\n",
    "\n",
    "# Create ChromeDriver service object\n",
    "driver_service_object = Service(webdriver_path)\n",
    "options = Options()"
   ]
  },
  {
   "cell_type": "code",
   "execution_count": 5,
   "id": "ad221266-55d1-4867-a482-f5e9c5ef36d1",
   "metadata": {},
   "outputs": [],
   "source": [
    "driver = webdriver.Chrome(service=driver_service_object, options=options)"
   ]
  },
  {
   "cell_type": "markdown",
   "id": "670103f7-fc99-420d-b4e9-8c234ba9d407",
   "metadata": {},
   "source": [
    "## Selenium Webdriver"
   ]
  },
  {
   "cell_type": "markdown",
   "id": "5afabf91-b07f-4a77-aa58-ec9dcf00b27f",
   "metadata": {},
   "source": [
    "Download all the metadata"
   ]
  },
  {
   "cell_type": "code",
   "execution_count": 6,
   "id": "d8a66dcf-a12b-4ac6-a3ff-43cf3d91fc1b",
   "metadata": {},
   "outputs": [],
   "source": [
    "driver.get(\"https://s3.amazonaws.com/capitalbikeshare-data/index.html\")"
   ]
  },
  {
   "cell_type": "markdown",
   "id": "0c06f02d-d532-4ce7-97c3-967bf1804543",
   "metadata": {},
   "source": [
    "## Web Scraping"
   ]
  },
  {
   "cell_type": "code",
   "execution_count": 7,
   "id": "3ea0ef66-fbb7-4a11-a266-c321c5e65bb4",
   "metadata": {},
   "outputs": [],
   "source": [
    "from selenium.webdriver.common.by import By"
   ]
  },
  {
   "cell_type": "code",
   "execution_count": 8,
   "id": "1770f5fb-3dc3-4cc5-a1ce-fe3f276ef4fb",
   "metadata": {},
   "outputs": [],
   "source": [
    "container = driver.find_element(By.XPATH, './/div[@class=\"container\"]')\n",
    "\n",
    "table_id = container.find_element(By.XPATH, \"//table[@class='hide-while-loading table table-striped']/tbody\")\n",
    "\n",
    "header = container.find_element(By.XPATH, \"//table[@class='hide-while-loading table table-striped']/thead\")\n",
    "headers = [h.text for h in header.find_elements(By.CSS_SELECTOR, \"th\")]"
   ]
  },
  {
   "cell_type": "code",
   "execution_count": 9,
   "id": "005bf834-a7a8-46dc-8950-ffcdbe0bf049",
   "metadata": {},
   "outputs": [],
   "source": [
    "import pandas as pd"
   ]
  },
  {
   "cell_type": "code",
   "execution_count": 10,
   "id": "8c366f06-4798-45e4-92e8-b9ac9d6c53f2",
   "metadata": {},
   "outputs": [],
   "source": [
    "# Scrape metadata\n",
    "mylists = []\n",
    "for row in table_id.find_elements(By.CSS_SELECTOR, \"tr\"):\n",
    "    mylist = []\n",
    "    zip_file_urls = []\n",
    "    col_idx = 0\n",
    "    for cell in row.find_elements(By.TAG_NAME, \"td\"):\n",
    "        text = cell.text\n",
    "        if col_idx == 0:\n",
    "            data_zip_url = cell.find_element(By.CSS_SELECTOR, \"a\").get_attribute(\"href\")\n",
    "            zip_file_urls.append(data_zip_url)\n",
    "        # Append contents of single row to empty list\n",
    "        mylist.append(text)\n",
    "        col_idx += 1\n",
    "    df_single_row = pd.DataFrame.from_records([{h: r for h, r in zip(headers, mylist)}])\n",
    "    df_single_row[\"zip_file_url\"] = zip_file_urls\n",
    "    mylists.append(df_single_row)"
   ]
  },
  {
   "cell_type": "markdown",
   "id": "a591cde6-5634-4a7b-be8d-a7f7e9ad846c",
   "metadata": {},
   "source": [
    "## Data Processing"
   ]
  },
  {
   "cell_type": "markdown",
   "id": "12644a03-e1d8-4952-8636-47f93fb65998",
   "metadata": {},
   "source": [
    "Combine the data"
   ]
  },
  {
   "cell_type": "code",
   "execution_count": 11,
   "id": "eeee0bfa-88e8-418b-bf60-21f2085024fd",
   "metadata": {
    "tags": []
   },
   "outputs": [],
   "source": [
    "df = pd.concat(mylists, ignore_index=True)"
   ]
  },
  {
   "cell_type": "code",
   "execution_count": 12,
   "id": "12575d1f-2dff-403e-9b21-220551f1f040",
   "metadata": {},
   "outputs": [
    {
     "data": {
      "text/html": [
       "<div>\n",
       "<style scoped>\n",
       "    .dataframe tbody tr th:only-of-type {\n",
       "        vertical-align: middle;\n",
       "    }\n",
       "\n",
       "    .dataframe tbody tr th {\n",
       "        vertical-align: top;\n",
       "    }\n",
       "\n",
       "    .dataframe thead th {\n",
       "        text-align: right;\n",
       "    }\n",
       "</style>\n",
       "<table border=\"1\" class=\"dataframe\">\n",
       "  <thead>\n",
       "    <tr style=\"text-align: right;\">\n",
       "      <th></th>\n",
       "      <th>Name</th>\n",
       "      <th>Date Modified</th>\n",
       "      <th>Size</th>\n",
       "      <th>Type</th>\n",
       "      <th>zip_file_url</th>\n",
       "    </tr>\n",
       "  </thead>\n",
       "  <tbody>\n",
       "    <tr>\n",
       "      <th>0</th>\n",
       "      <td>2010-capitalbikeshare-tripdata.zip</td>\n",
       "      <td>Mar 15th 2018, 06:33:31 pm</td>\n",
       "      <td>2.41 MB</td>\n",
       "      <td>ZIP file</td>\n",
       "      <td>https://s3.amazonaws.com/capitalbikeshare-data...</td>\n",
       "    </tr>\n",
       "    <tr>\n",
       "      <th>1</th>\n",
       "      <td>2011-capitalbikeshare-tripdata.zip</td>\n",
       "      <td>Mar 15th 2018, 06:45:30 pm</td>\n",
       "      <td>25.33 MB</td>\n",
       "      <td>ZIP file</td>\n",
       "      <td>https://s3.amazonaws.com/capitalbikeshare-data...</td>\n",
       "    </tr>\n",
       "    <tr>\n",
       "      <th>2</th>\n",
       "      <td>2012-capitalbikeshare-tripdata.zip</td>\n",
       "      <td>Mar 15th 2018, 06:55:27 pm</td>\n",
       "      <td>43.46 MB</td>\n",
       "      <td>ZIP file</td>\n",
       "      <td>https://s3.amazonaws.com/capitalbikeshare-data...</td>\n",
       "    </tr>\n",
       "  </tbody>\n",
       "</table>\n",
       "</div>"
      ],
      "text/plain": [
       "                                 Name               Date Modified      Size  \\\n",
       "0  2010-capitalbikeshare-tripdata.zip  Mar 15th 2018, 06:33:31 pm   2.41 MB   \n",
       "1  2011-capitalbikeshare-tripdata.zip  Mar 15th 2018, 06:45:30 pm  25.33 MB   \n",
       "2  2012-capitalbikeshare-tripdata.zip  Mar 15th 2018, 06:55:27 pm  43.46 MB   \n",
       "\n",
       "       Type                                       zip_file_url  \n",
       "0  ZIP file  https://s3.amazonaws.com/capitalbikeshare-data...  \n",
       "1  ZIP file  https://s3.amazonaws.com/capitalbikeshare-data...  \n",
       "2  ZIP file  https://s3.amazonaws.com/capitalbikeshare-data...  "
      ]
     },
     "execution_count": 12,
     "metadata": {},
     "output_type": "execute_result"
    }
   ],
   "source": [
    "df.head(3)"
   ]
  },
  {
   "cell_type": "markdown",
   "id": "8fdf8025-ffa3-45b2-a3e4-61859149e05b",
   "metadata": {},
   "source": [
    "Get data from 2021"
   ]
  },
  {
   "cell_type": "code",
   "execution_count": 13,
   "id": "0f574f36-48a3-45ae-81c7-5f296cd095b1",
   "metadata": {
    "tags": []
   },
   "outputs": [],
   "source": [
    "df = df[df[\"Name\"].str[:4] == \"2021\"].copy()\n",
    "\n",
    "df[\"date_modified_eod\"] = pd.to_datetime(df[\"Date Modified\"])"
   ]
  },
  {
   "cell_type": "code",
   "execution_count": null,
   "id": "a2f5aa70-58d2-443d-93e2-5ea94d4ebbf3",
   "metadata": {},
   "outputs": [],
   "source": []
  },
  {
   "cell_type": "code",
   "execution_count": 14,
   "id": "02a1b282-0dbd-4dc8-a096-b64bfb6da0e5",
   "metadata": {},
   "outputs": [
    {
     "data": {
      "text/html": [
       "<div>\n",
       "<style scoped>\n",
       "    .dataframe tbody tr th:only-of-type {\n",
       "        vertical-align: middle;\n",
       "    }\n",
       "\n",
       "    .dataframe tbody tr th {\n",
       "        vertical-align: top;\n",
       "    }\n",
       "\n",
       "    .dataframe thead th {\n",
       "        text-align: right;\n",
       "    }\n",
       "</style>\n",
       "<table border=\"1\" class=\"dataframe\">\n",
       "  <thead>\n",
       "    <tr style=\"text-align: right;\">\n",
       "      <th></th>\n",
       "      <th>Name</th>\n",
       "      <th>Date Modified</th>\n",
       "      <th>Size</th>\n",
       "      <th>Type</th>\n",
       "      <th>zip_file_url</th>\n",
       "      <th>date_modified_eod</th>\n",
       "    </tr>\n",
       "  </thead>\n",
       "  <tbody>\n",
       "    <tr>\n",
       "      <th>44</th>\n",
       "      <td>202101-capitalbikeshare-tripdata.zip</td>\n",
       "      <td>Feb 4th 2021, 04:55:29 pm</td>\n",
       "      <td>3.61 MB</td>\n",
       "      <td>ZIP file</td>\n",
       "      <td>https://s3.amazonaws.com/capitalbikeshare-data...</td>\n",
       "      <td>2021-02-04 16:55:29</td>\n",
       "    </tr>\n",
       "    <tr>\n",
       "      <th>45</th>\n",
       "      <td>202102-capitalbikeshare-tripdata.zip</td>\n",
       "      <td>Mar 9th 2021, 07:07:41 pm</td>\n",
       "      <td>2.78 MB</td>\n",
       "      <td>ZIP file</td>\n",
       "      <td>https://s3.amazonaws.com/capitalbikeshare-data...</td>\n",
       "      <td>2021-03-09 19:07:41</td>\n",
       "    </tr>\n",
       "    <tr>\n",
       "      <th>46</th>\n",
       "      <td>202103-capitalbikeshare-tripdata.zip</td>\n",
       "      <td>Apr 8th 2021, 10:31:40 am</td>\n",
       "      <td>5.88 MB</td>\n",
       "      <td>ZIP file</td>\n",
       "      <td>https://s3.amazonaws.com/capitalbikeshare-data...</td>\n",
       "      <td>2021-04-08 10:31:40</td>\n",
       "    </tr>\n",
       "  </tbody>\n",
       "</table>\n",
       "</div>"
      ],
      "text/plain": [
       "                                    Name              Date Modified     Size  \\\n",
       "44  202101-capitalbikeshare-tripdata.zip  Feb 4th 2021, 04:55:29 pm  3.61 MB   \n",
       "45  202102-capitalbikeshare-tripdata.zip  Mar 9th 2021, 07:07:41 pm  2.78 MB   \n",
       "46  202103-capitalbikeshare-tripdata.zip  Apr 8th 2021, 10:31:40 am  5.88 MB   \n",
       "\n",
       "        Type                                       zip_file_url  \\\n",
       "44  ZIP file  https://s3.amazonaws.com/capitalbikeshare-data...   \n",
       "45  ZIP file  https://s3.amazonaws.com/capitalbikeshare-data...   \n",
       "46  ZIP file  https://s3.amazonaws.com/capitalbikeshare-data...   \n",
       "\n",
       "     date_modified_eod  \n",
       "44 2021-02-04 16:55:29  \n",
       "45 2021-03-09 19:07:41  \n",
       "46 2021-04-08 10:31:40  "
      ]
     },
     "execution_count": 14,
     "metadata": {},
     "output_type": "execute_result"
    }
   ],
   "source": [
    "df.head(3)"
   ]
  },
  {
   "cell_type": "code",
   "execution_count": 15,
   "id": "950c1e91-f73c-460d-bffc-c9c4c6090080",
   "metadata": {},
   "outputs": [],
   "source": [
    "driver.quit()"
   ]
  },
  {
   "cell_type": "code",
   "execution_count": null,
   "id": "ad3818cb-c8d6-4e49-ab11-8bac38acaf45",
   "metadata": {},
   "outputs": [],
   "source": []
  },
  {
   "cell_type": "markdown",
   "id": "26088c4e-1c78-4b68-b7b1-0c97ae56c4d1",
   "metadata": {},
   "source": [
    "Download the data"
   ]
  },
  {
   "cell_type": "code",
   "execution_count": 18,
   "id": "f4584531-2769-43fc-be98-ce9008616f97",
   "metadata": {},
   "outputs": [],
   "source": [
    "from io import BytesIO\n",
    "from urllib.request import urlopen\n",
    "from zipfile import ZipFile"
   ]
  },
  {
   "cell_type": "code",
   "execution_count": 19,
   "id": "f96b2a3f-0fbe-4e4c-b83a-3309e172749e",
   "metadata": {},
   "outputs": [
    {
     "name": "stdout",
     "output_type": "stream",
     "text": [
      "CPU times: user 1.87 s, sys: 541 ms, total: 2.41 s\n",
      "Wall time: 11.3 s\n"
     ]
    }
   ],
   "source": [
    "%%time\n",
    "for _, row in df.iterrows():\n",
    "    zipurl = row[\"zip_file_url\"]\n",
    "    # Extract without saving\n",
    "    with urlopen(zipurl) as zipresp:\n",
    "        with ZipFile(BytesIO(zipresp.read())) as zfile:\n",
    "            zfile.extractall(f'data/raw')"
   ]
  }
 ],
 "metadata": {
  "kernelspec": {
   "display_name": "Python 3 (ipykernel)",
   "language": "python",
   "name": "python3"
  },
  "language_info": {
   "codemirror_mode": {
    "name": "ipython",
    "version": 3
   },
   "file_extension": ".py",
   "mimetype": "text/x-python",
   "name": "python",
   "nbconvert_exporter": "python",
   "pygments_lexer": "ipython3",
   "version": "3.9.7"
  }
 },
 "nbformat": 4,
 "nbformat_minor": 5
}
