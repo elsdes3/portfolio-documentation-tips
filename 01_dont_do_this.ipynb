{
 "cells": [
  {
   "cell_type": "markdown",
   "id": "75b28321-1dcc-40a0-818d-935f26a5c975",
   "metadata": {},
   "source": [
    "Download the ChromeDriver 97.0.4692.71: https://chromedriver.chromium.org/downloads. This requires Google chrome version 97.0.4692.71.\n",
    "\n",
    "Download the bikeshare data from here: https://s3.amazonaws.com/capitalbikeshare-data/index.html\n",
    "\n",
    "Install Python libraries: selenium, pandas"
   ]
  },
  {
   "cell_type": "code",
   "execution_count": 1,
   "id": "f4f79760-d324-4e71-a921-4b8d4991e4ec",
   "metadata": {
    "tags": []
   },
   "outputs": [],
   "source": [
    "# !pip3 install selenium pandas"
   ]
  },
  {
   "cell_type": "code",
   "execution_count": 3,
   "id": "28c831d2-f6cd-4fd6-be35-04d884b9af89",
   "metadata": {},
   "outputs": [],
   "source": [
    "import os"
   ]
  },
  {
   "cell_type": "code",
   "execution_count": null,
   "id": "da94582b-92c3-496c-afd5-fea5bf1dcc83",
   "metadata": {},
   "outputs": [],
   "source": [
    "from selenium.webdriver.chrome.options import Options\n",
    "from selenium import webdriver\n",
    "from selenium.webdriver.chrome.service import Service"
   ]
  },
  {
   "cell_type": "code",
   "execution_count": 5,
   "id": "bcd74e55-9779-4c0f-b779-c2989ea02f40",
   "metadata": {},
   "outputs": [],
   "source": [
    "# Path to the Chrome webdriver on local system\n",
    "user_name = os.getenv(\"USERNAME\")\n",
    "webdriver_path = f\"/home/{user_name}/chromedriver_linux64/chromedriver\"\n",
    "\n",
    "# Create ChromeDriver service object\n",
    "driver_service_object = Service(webdriver_path)\n",
    "options = Options()"
   ]
  },
  {
   "cell_type": "code",
   "execution_count": null,
   "id": "ad221266-55d1-4867-a482-f5e9c5ef36d1",
   "metadata": {},
   "outputs": [],
   "source": [
    "driver = webdriver.Chrome(service=webdriver_service_object, options=chrome_webdriver_options)"
   ]
  },
  {
   "cell_type": "markdown",
   "id": "670103f7-fc99-420d-b4e9-8c234ba9d407",
   "metadata": {},
   "source": [
    "## Selenium Webdriver"
   ]
  },
  {
   "cell_type": "markdown",
   "id": "5afabf91-b07f-4a77-aa58-ec9dcf00b27f",
   "metadata": {},
   "source": [
    "Download all the metadata"
   ]
  },
  {
   "cell_type": "code",
   "execution_count": null,
   "id": "d8a66dcf-a12b-4ac6-a3ff-43cf3d91fc1b",
   "metadata": {},
   "outputs": [],
   "source": [
    "driver.get(\"https://s3.amazonaws.com/capitalbikeshare-data/index.html\")"
   ]
  },
  {
   "cell_type": "markdown",
   "id": "0c06f02d-d532-4ce7-97c3-967bf1804543",
   "metadata": {},
   "source": [
    "## Web Scraping"
   ]
  },
  {
   "cell_type": "code",
   "execution_count": null,
   "id": "3ea0ef66-fbb7-4a11-a266-c321c5e65bb4",
   "metadata": {},
   "outputs": [],
   "source": [
    "from selenium.webdriver.common.by import By"
   ]
  },
  {
   "cell_type": "code",
   "execution_count": null,
   "id": "1770f5fb-3dc3-4cc5-a1ce-fe3f276ef4fb",
   "metadata": {},
   "outputs": [],
   "source": [
    "container = driver.find_element(By.XPATH, './/div[@class=\"container\"]')\n",
    "\n",
    "table_id = container.find_element(By.XPATH, \"//table[@class='hide-while-loading table table-striped']/tbody\")\n",
    "\n",
    "header = container.find_element(By.XPATH, \"//table[@class='hide-while-loading table table-striped']/thead\")\n",
    "headers = [h.text for h in header.find_elements(By.CSS_SELECTOR, \"th\")]"
   ]
  },
  {
   "cell_type": "code",
   "execution_count": null,
   "id": "005bf834-a7a8-46dc-8950-ffcdbe0bf049",
   "metadata": {},
   "outputs": [],
   "source": [
    "import pandas as pd"
   ]
  },
  {
   "cell_type": "code",
   "execution_count": null,
   "id": "8c366f06-4798-45e4-92e8-b9ac9d6c53f2",
   "metadata": {},
   "outputs": [],
   "source": [
    "# Scrape metadata\n",
    "mylists = []\n",
    "for row in table_id.find_elements(By.CSS_SELECTOR, \"tr\"):\n",
    "    mylist = []\n",
    "    zip_file_urls = []\n",
    "    col_idx = 0\n",
    "    for cell in row.find_elements(By.TAG_NAME, \"td\"):\n",
    "        text = cell.text\n",
    "        if col_idx == 0:\n",
    "            data_zip_url = cell.find_element(By.CSS_SELECTOR, \"a\").get_attribute(\"href\")\n",
    "            zip_file_urls.append(data_zip_url)\n",
    "        # Append contents of single row to empty list\n",
    "        mylist.append(text)\n",
    "        col_idx += 1\n",
    "    df_single_row = pd.DataFrame.from_records([{h: r for h, r in zip(headers, mylist)}])\n",
    "    df_single_row[\"zip_file_url\"] = zip_file_urls\n",
    "    mylists.append(df_single_row)"
   ]
  },
  {
   "cell_type": "markdown",
   "id": "a591cde6-5634-4a7b-be8d-a7f7e9ad846c",
   "metadata": {},
   "source": [
    "## Data Processing"
   ]
  },
  {
   "cell_type": "markdown",
   "id": "12644a03-e1d8-4952-8636-47f93fb65998",
   "metadata": {},
   "source": [
    "Combine the data"
   ]
  },
  {
   "cell_type": "code",
   "execution_count": null,
   "id": "eeee0bfa-88e8-418b-bf60-21f2085024fd",
   "metadata": {},
   "outputs": [],
   "source": [
    "df = pd.concat(mylist, ignore_index=True)"
   ]
  },
  {
   "cell_type": "markdown",
   "id": "8fdf8025-ffa3-45b2-a3e4-61859149e05b",
   "metadata": {},
   "source": [
    "Get data from 2021"
   ]
  },
  {
   "cell_type": "code",
   "execution_count": 6,
   "id": "0f574f36-48a3-45ae-81c7-5f296cd095b1",
   "metadata": {
    "tags": []
   },
   "outputs": [],
   "source": [
    "df = df[df[\"Name\"].str.startswith(\"2021\")].drop(columns=cols_to_drop)\n",
    "\n",
    "# Datetime operations\n",
    "df[\"train_data_last_date\"] = pd.to_datetime(\n",
    "    df[\"Name\"].str.split(\"-capital\", expand=True)[0] + \"01\"\n",
    ")\n",
    "df[\"train_data_last_date\"] = (\n",
    "    df[\"train_data_last_date\"] + pd.offsets.MonthEnd(0) + pd.DateOffset(hours=23)\n",
    ")\n",
    "\n",
    "df[\"date_modified_eod\"] = pd.to_datetime(\n",
    "    df[\"Date Modified\"]\n",
    ").dt.date + pd.DateOffset(hours=24)\n",
    "\n",
    "df[\"days_diff\"] = pd.to_datetime(df[\"Date Modified\"]) - df[\"train_data_last_date\"]\n",
    "df = df.sort_values(by=\"train_data_last_date\")"
   ]
  },
  {
   "cell_type": "code",
   "execution_count": null,
   "id": "a2f5aa70-58d2-443d-93e2-5ea94d4ebbf3",
   "metadata": {},
   "outputs": [],
   "source": []
  },
  {
   "cell_type": "code",
   "execution_count": 7,
   "id": "02a1b282-0dbd-4dc8-a096-b64bfb6da0e5",
   "metadata": {},
   "outputs": [
    {
     "data": {
      "text/html": [
       "<div>\n",
       "<style scoped>\n",
       "    .dataframe tbody tr th:only-of-type {\n",
       "        vertical-align: middle;\n",
       "    }\n",
       "\n",
       "    .dataframe tbody tr th {\n",
       "        vertical-align: top;\n",
       "    }\n",
       "\n",
       "    .dataframe thead th {\n",
       "        text-align: right;\n",
       "    }\n",
       "</style>\n",
       "<table border=\"1\" class=\"dataframe\">\n",
       "  <thead>\n",
       "    <tr style=\"text-align: right;\">\n",
       "      <th></th>\n",
       "      <th>Name</th>\n",
       "      <th>Date Modified</th>\n",
       "      <th>zip_file_url</th>\n",
       "      <th>train_data_last_date</th>\n",
       "      <th>date_modified_eod</th>\n",
       "      <th>days_diff</th>\n",
       "    </tr>\n",
       "  </thead>\n",
       "  <tbody>\n",
       "    <tr>\n",
       "      <th>44</th>\n",
       "      <td>202101-capitalbikeshare-tripdata.zip</td>\n",
       "      <td>Feb 4th 2021, 04:55:29 pm</td>\n",
       "      <td>https://s3.amazonaws.com/capitalbikeshare-data/202101-capitalbikeshare-tripdata.zip</td>\n",
       "      <td>2021-01-31 23:00:00</td>\n",
       "      <td>2021-02-05</td>\n",
       "      <td>3 days 17:55:29</td>\n",
       "    </tr>\n",
       "    <tr>\n",
       "      <th>45</th>\n",
       "      <td>202102-capitalbikeshare-tripdata.zip</td>\n",
       "      <td>Mar 9th 2021, 07:07:41 pm</td>\n",
       "      <td>https://s3.amazonaws.com/capitalbikeshare-data/202102-capitalbikeshare-tripdata.zip</td>\n",
       "      <td>2021-02-28 23:00:00</td>\n",
       "      <td>2021-03-10</td>\n",
       "      <td>8 days 20:07:41</td>\n",
       "    </tr>\n",
       "    <tr>\n",
       "      <th>46</th>\n",
       "      <td>202103-capitalbikeshare-tripdata.zip</td>\n",
       "      <td>Apr 8th 2021, 10:31:40 am</td>\n",
       "      <td>https://s3.amazonaws.com/capitalbikeshare-data/202103-capitalbikeshare-tripdata.zip</td>\n",
       "      <td>2021-03-31 23:00:00</td>\n",
       "      <td>2021-04-09</td>\n",
       "      <td>7 days 11:31:40</td>\n",
       "    </tr>\n",
       "    <tr>\n",
       "      <th>47</th>\n",
       "      <td>202104-capitalbikeshare-tripdata.zip</td>\n",
       "      <td>May 7th 2021, 10:55:16 am</td>\n",
       "      <td>https://s3.amazonaws.com/capitalbikeshare-data/202104-capitalbikeshare-tripdata.zip</td>\n",
       "      <td>2021-04-30 23:00:00</td>\n",
       "      <td>2021-05-08</td>\n",
       "      <td>6 days 11:55:16</td>\n",
       "    </tr>\n",
       "    <tr>\n",
       "      <th>48</th>\n",
       "      <td>202105-capitalbikeshare-tripdata.zip</td>\n",
       "      <td>Jun 11th 2021, 01:15:06 pm</td>\n",
       "      <td>https://s3.amazonaws.com/capitalbikeshare-data/202105-capitalbikeshare-tripdata.zip</td>\n",
       "      <td>2021-05-31 23:00:00</td>\n",
       "      <td>2021-06-12</td>\n",
       "      <td>10 days 14:15:06</td>\n",
       "    </tr>\n",
       "    <tr>\n",
       "      <th>49</th>\n",
       "      <td>202106-capitalbikeshare-tripdata.zip</td>\n",
       "      <td>Jul 15th 2021, 07:24:36 pm</td>\n",
       "      <td>https://s3.amazonaws.com/capitalbikeshare-data/202106-capitalbikeshare-tripdata.zip</td>\n",
       "      <td>2021-06-30 23:00:00</td>\n",
       "      <td>2021-07-16</td>\n",
       "      <td>14 days 20:24:36</td>\n",
       "    </tr>\n",
       "    <tr>\n",
       "      <th>50</th>\n",
       "      <td>202107-capitalbikeshare-tripdata.zip</td>\n",
       "      <td>Aug 14th 2021, 02:10:46 am</td>\n",
       "      <td>https://s3.amazonaws.com/capitalbikeshare-data/202107-capitalbikeshare-tripdata.zip</td>\n",
       "      <td>2021-07-31 23:00:00</td>\n",
       "      <td>2021-08-15</td>\n",
       "      <td>13 days 03:10:46</td>\n",
       "    </tr>\n",
       "    <tr>\n",
       "      <th>51</th>\n",
       "      <td>202108-capitalbikeshare-tripdata.zip</td>\n",
       "      <td>Sep 8th 2021, 02:38:08 pm</td>\n",
       "      <td>https://s3.amazonaws.com/capitalbikeshare-data/202108-capitalbikeshare-tripdata.zip</td>\n",
       "      <td>2021-08-31 23:00:00</td>\n",
       "      <td>2021-09-09</td>\n",
       "      <td>7 days 15:38:08</td>\n",
       "    </tr>\n",
       "    <tr>\n",
       "      <th>52</th>\n",
       "      <td>202109-capitalbikeshare-tripdata.zip</td>\n",
       "      <td>Oct 4th 2021, 01:25:31 pm</td>\n",
       "      <td>https://s3.amazonaws.com/capitalbikeshare-data/202109-capitalbikeshare-tripdata.zip</td>\n",
       "      <td>2021-09-30 23:00:00</td>\n",
       "      <td>2021-10-05</td>\n",
       "      <td>3 days 14:25:31</td>\n",
       "    </tr>\n",
       "    <tr>\n",
       "      <th>53</th>\n",
       "      <td>202110-capitalbikeshare-tripdata.zip</td>\n",
       "      <td>Nov 5th 2021, 09:25:23 am</td>\n",
       "      <td>https://s3.amazonaws.com/capitalbikeshare-data/202110-capitalbikeshare-tripdata.zip</td>\n",
       "      <td>2021-10-31 23:00:00</td>\n",
       "      <td>2021-11-06</td>\n",
       "      <td>4 days 10:25:23</td>\n",
       "    </tr>\n",
       "    <tr>\n",
       "      <th>54</th>\n",
       "      <td>202111-capitalbikeshare-tripdata.zip</td>\n",
       "      <td>Dec 8th 2021, 03:25:09 pm</td>\n",
       "      <td>https://s3.amazonaws.com/capitalbikeshare-data/202111-capitalbikeshare-tripdata.zip</td>\n",
       "      <td>2021-11-30 23:00:00</td>\n",
       "      <td>2021-12-09</td>\n",
       "      <td>7 days 16:25:09</td>\n",
       "    </tr>\n",
       "    <tr>\n",
       "      <th>55</th>\n",
       "      <td>202112-capitalbikeshare-tripdata.zip</td>\n",
       "      <td>Jan 6th 2022, 11:35:04 am</td>\n",
       "      <td>https://s3.amazonaws.com/capitalbikeshare-data/202112-capitalbikeshare-tripdata.zip</td>\n",
       "      <td>2021-12-31 23:00:00</td>\n",
       "      <td>2022-01-07</td>\n",
       "      <td>5 days 12:35:04</td>\n",
       "    </tr>\n",
       "  </tbody>\n",
       "</table>\n",
       "</div>"
      ],
      "text/plain": [
       "                                    Name               Date Modified  \\\n",
       "44  202101-capitalbikeshare-tripdata.zip   Feb 4th 2021, 04:55:29 pm   \n",
       "45  202102-capitalbikeshare-tripdata.zip   Mar 9th 2021, 07:07:41 pm   \n",
       "46  202103-capitalbikeshare-tripdata.zip   Apr 8th 2021, 10:31:40 am   \n",
       "47  202104-capitalbikeshare-tripdata.zip   May 7th 2021, 10:55:16 am   \n",
       "48  202105-capitalbikeshare-tripdata.zip  Jun 11th 2021, 01:15:06 pm   \n",
       "49  202106-capitalbikeshare-tripdata.zip  Jul 15th 2021, 07:24:36 pm   \n",
       "50  202107-capitalbikeshare-tripdata.zip  Aug 14th 2021, 02:10:46 am   \n",
       "51  202108-capitalbikeshare-tripdata.zip   Sep 8th 2021, 02:38:08 pm   \n",
       "52  202109-capitalbikeshare-tripdata.zip   Oct 4th 2021, 01:25:31 pm   \n",
       "53  202110-capitalbikeshare-tripdata.zip   Nov 5th 2021, 09:25:23 am   \n",
       "54  202111-capitalbikeshare-tripdata.zip   Dec 8th 2021, 03:25:09 pm   \n",
       "55  202112-capitalbikeshare-tripdata.zip   Jan 6th 2022, 11:35:04 am   \n",
       "\n",
       "                                                                           zip_file_url  \\\n",
       "44  https://s3.amazonaws.com/capitalbikeshare-data/202101-capitalbikeshare-tripdata.zip   \n",
       "45  https://s3.amazonaws.com/capitalbikeshare-data/202102-capitalbikeshare-tripdata.zip   \n",
       "46  https://s3.amazonaws.com/capitalbikeshare-data/202103-capitalbikeshare-tripdata.zip   \n",
       "47  https://s3.amazonaws.com/capitalbikeshare-data/202104-capitalbikeshare-tripdata.zip   \n",
       "48  https://s3.amazonaws.com/capitalbikeshare-data/202105-capitalbikeshare-tripdata.zip   \n",
       "49  https://s3.amazonaws.com/capitalbikeshare-data/202106-capitalbikeshare-tripdata.zip   \n",
       "50  https://s3.amazonaws.com/capitalbikeshare-data/202107-capitalbikeshare-tripdata.zip   \n",
       "51  https://s3.amazonaws.com/capitalbikeshare-data/202108-capitalbikeshare-tripdata.zip   \n",
       "52  https://s3.amazonaws.com/capitalbikeshare-data/202109-capitalbikeshare-tripdata.zip   \n",
       "53  https://s3.amazonaws.com/capitalbikeshare-data/202110-capitalbikeshare-tripdata.zip   \n",
       "54  https://s3.amazonaws.com/capitalbikeshare-data/202111-capitalbikeshare-tripdata.zip   \n",
       "55  https://s3.amazonaws.com/capitalbikeshare-data/202112-capitalbikeshare-tripdata.zip   \n",
       "\n",
       "   train_data_last_date date_modified_eod        days_diff  \n",
       "44  2021-01-31 23:00:00        2021-02-05  3 days 17:55:29  \n",
       "45  2021-02-28 23:00:00        2021-03-10  8 days 20:07:41  \n",
       "46  2021-03-31 23:00:00        2021-04-09  7 days 11:31:40  \n",
       "47  2021-04-30 23:00:00        2021-05-08  6 days 11:55:16  \n",
       "48  2021-05-31 23:00:00        2021-06-12 10 days 14:15:06  \n",
       "49  2021-06-30 23:00:00        2021-07-16 14 days 20:24:36  \n",
       "50  2021-07-31 23:00:00        2021-08-15 13 days 03:10:46  \n",
       "51  2021-08-31 23:00:00        2021-09-09  7 days 15:38:08  \n",
       "52  2021-09-30 23:00:00        2021-10-05  3 days 14:25:31  \n",
       "53  2021-10-31 23:00:00        2021-11-06  4 days 10:25:23  \n",
       "54  2021-11-30 23:00:00        2021-12-09  7 days 16:25:09  \n",
       "55  2021-12-31 23:00:00        2022-01-07  5 days 12:35:04  "
      ]
     },
     "metadata": {},
     "output_type": "display_data"
    },
    {
     "name": "stdout",
     "output_type": "stream",
     "text": [
      "CPU times: user 299 ms, sys: 0 ns, total: 299 ms\n",
      "Wall time: 5.42 s\n"
     ]
    }
   ],
   "source": [
    "df"
   ]
  },
  {
   "cell_type": "markdown",
   "id": "42bdba02-8623-420e-9bb6-af1ce2a534b7",
   "metadata": {},
   "source": [
    "- name of file with training data\n",
    "- ...\n",
    "- date and time for the start of the last hour for which training data is available\n",
    "- ..."
   ]
  },
  {
   "cell_type": "markdown",
   "id": "4b95a456-08cc-4e29-8c82-10cb3949bf63",
   "metadata": {},
   "source": [
    "https://github.com/edesz/miscellaneous/blob/master/wcd_projects/diploma_related/project3/bikeshare-idea/0_live_timeline.ipynb"
   ]
  },
  {
   "cell_type": "code",
   "execution_count": null,
   "id": "950c1e91-f73c-460d-bffc-c9c4c6090080",
   "metadata": {},
   "outputs": [],
   "source": [
    "driver.quit()"
   ]
  },
  {
   "cell_type": "code",
   "execution_count": null,
   "id": "ad3818cb-c8d6-4e49-ab11-8bac38acaf45",
   "metadata": {},
   "outputs": [],
   "source": []
  },
  {
   "cell_type": "code",
   "execution_count": null,
   "id": "f96b2a3f-0fbe-4e4c-b83a-3309e172749e",
   "metadata": {},
   "outputs": [],
   "source": []
  }
 ],
 "metadata": {
  "kernelspec": {
   "display_name": "Python 3 (ipykernel)",
   "language": "python",
   "name": "python3"
  },
  "language_info": {
   "codemirror_mode": {
    "name": "ipython",
    "version": 3
   },
   "file_extension": ".py",
   "mimetype": "text/x-python",
   "name": "python",
   "nbconvert_exporter": "python",
   "pygments_lexer": "ipython3",
   "version": "3.9.7"
  }
 },
 "nbformat": 4,
 "nbformat_minor": 5
}
