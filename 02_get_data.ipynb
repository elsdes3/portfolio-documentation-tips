{
 "cells": [
  {
   "cell_type": "markdown",
   "id": "2f14f065",
   "metadata": {},
   "source": [
    "# Data Acquisition"
   ]
  },
  {
   "cell_type": "markdown",
   "id": "7ad404b5",
   "metadata": {
    "heading_collapsed": true
   },
   "source": [
    "### Use Markdown\n",
    "\n",
    "For tips on text formatting in Markdown, refer to the official [Markdown Guide](https://www.markdownguide.org/basic-syntax)."
   ]
  },
  {
   "cell_type": "markdown",
   "id": "8cf2874c",
   "metadata": {
    "heading_collapsed": true,
    "tags": []
   },
   "source": [
    "### All Python Imports should be Sorted\n",
    "\n",
    "This is a [best practice](https://www.python.org/dev/peps/pep-0008/#imports). The order should be\n",
    "- Python standard library\n",
    "  - `os`\n",
    "  - `json`\n",
    "  - `datetime`\n",
    "- third party libraries\n",
    "  - `numpy`\n",
    "  - `pandas`\n",
    "  - `keras`\n",
    "  - `pyspark`\n",
    "- your custom library (see [the best practice](https://www.python.org/dev/peps/pep-0008/#package-and-module-names) for how to pick a name for custom Python modules)\n",
    "  - `from src.load_data import get_data`"
   ]
  },
  {
   "cell_type": "code",
   "execution_count": 2,
   "id": "da94582b-92c3-496c-afd5-fea5bf1dcc83",
   "metadata": {
    "hidden": true
   },
   "outputs": [],
   "source": [
    "# Python standard library\n",
    "import os\n",
    "from glob import glob\n",
    "from io import BytesIO\n",
    "from time import sleep\n",
    "from urllib.request import urlopen\n",
    "from zipfile import ZipFile\n",
    "\n",
    "# Third party libraries\n",
    "import pandas as pd\n",
    "from selenium import webdriver\n",
    "from selenium.webdriver.common.by import By\n",
    "from selenium.webdriver.chrome.options import Options\n",
    "from selenium.webdriver.chrome.service import Service"
   ]
  },
  {
   "cell_type": "markdown",
   "id": "d96e7530",
   "metadata": {
    "heading_collapsed": true
   },
   "source": [
    "### Use html to create a table of contents at the start of the notebook\n",
    "\n",
    "**Benefits**\n",
    "\n",
    "1. guides the audience when navigating through the notebook\n",
    "2. overview of notebook objectives through [**Level 2** headings](https://www.markdownguide.org/basic-syntax/#headings)\n",
    "   - go directly to a section or sub-section\n",
    "   - do not need to read the whole notebook\n",
    "\n",
    "**Usage**\n",
    "\n",
    "Uses [HTML hyperlinks](https://www.w3schools.com/tags/tag_a.asp) `<a>` and the value of the `id` attribute will be refrenced elsewhere in the notebook."
   ]
  },
  {
   "cell_type": "markdown",
   "id": "9afbdd47-bf1a-4799-828f-8de76c1e87ef",
   "metadata": {
    "hidden": true
   },
   "source": [
    "<a id='table-of-contents'></a>\n",
    "\n",
    "## [Table of Contents](#table-of-contents)"
   ]
  },
  {
   "cell_type": "markdown",
   "id": "6ffbb725-a9b8-42d4-b260-88ccdf5176a1",
   "metadata": {
    "hidden": true
   },
   "source": [
    "1. [About](#about)\n",
    "2. [User Inputs](#user-inputs)\n",
    "3. [Define Web Driver](#define-web-driver)\n",
    "4. [Get Data](#get-data)\n",
    "   - 4.1. [Get URLs to download data files](#get-urls-to-download-data-files)\n",
    "   - 4.2. [Download Bikeshare Ridership Data Files](#download-bikeshare-ridership-data-files)\n",
    "5. [Close Web Driver](#close-web-driver)"
   ]
  },
  {
   "cell_type": "markdown",
   "id": "dd62c1e3",
   "metadata": {
    "heading_collapsed": true
   },
   "source": [
    "### Introduction / Overview\n",
    "\n",
    "This should be an overview of what the notebook covers. Everything here should guide the user to what they will encounter as they continue reading the notebook.\n",
    "\n",
    "Some examples\n",
    "- if there are important pre-requisites, they can be included here. Some examples are\n",
    "- significant project-level assumptions should be included here only if they impact the code in **this notebook only**\n",
    "  - if there are assumptions that impact all notebooks, then they should be documented in the `README.md` file for the project"
   ]
  },
  {
   "cell_type": "markdown",
   "id": "db378947-59b4-4366-a43d-58f88a87f9de",
   "metadata": {
    "hidden": true
   },
   "source": [
    "<a id='about'></a>\n",
    "\n",
    "## 1. About"
   ]
  },
  {
   "cell_type": "markdown",
   "id": "bd916b95-7997-4d2c-b9cc-004ac3976752",
   "metadata": {
    "hidden": true
   },
   "source": [
    "This notebook will cover bikeshare ridership data collection from the [Capital Bikeshare system data page](https://www.capitalbikeshare.com/system-data).\n",
    "\n",
    "**Prerequisites**\n",
    "1. This notebook was run with\n",
    "   - Google Chrome web browser (version 97.0.4692.71)\n",
    "   - ChromeDriver 97.0.4692.71 from the [Chromedriver downloads section](https://chromedriver.chromium.org/downloads)"
   ]
  },
  {
   "cell_type": "markdown",
   "id": "e4b75d7a",
   "metadata": {
    "heading_collapsed": true
   },
   "source": [
    "### Input (Python) Variables\n",
    "\n",
    "These are Python variables that won't be changed later in this notebook.\n",
    "\n",
    "**Tip**\n",
    "\n",
    "After this cell is changed, we should be able to run all the following cells of this notebook with no errors."
   ]
  },
  {
   "cell_type": "markdown",
   "id": "526debe9-c2ac-4845-9418-307411f8a400",
   "metadata": {
    "hidden": true
   },
   "source": [
    "<a id='user-inputs'></a>\n",
    "\n",
    "## 2. User Inputs"
   ]
  },
  {
   "cell_type": "code",
   "execution_count": 3,
   "id": "b31e5b05-515f-477c-bfeb-c5aa865075f7",
   "metadata": {
    "hidden": true,
    "tags": [
     "parameters"
    ]
   },
   "outputs": [],
   "source": [
    "# Get user name\n",
    "user_name = os.getenv(\"USERNAME\")\n",
    "\n",
    "# Link to data files\n",
    "system_data_url = \"https://s3.amazonaws.com/capitalbikeshare-data/index.html\"\n",
    "\n",
    "# Path to the Chrome webdriver on local system\n",
    "webdriver_path = f\"/home/{user_name}/chromedriver_linux64/chromedriver\"\n",
    "\n",
    "# Year of data to use\n",
    "years_to_use_str = \"2021\""
   ]
  },
  {
   "cell_type": "code",
   "execution_count": 4,
   "id": "6a011909-ef09-4b3e-a231-d58a67b51efa",
   "metadata": {
    "hidden": true
   },
   "outputs": [],
   "source": [
    "# Create ChromeDriver service object\n",
    "webdriver_service_object = Service(webdriver_path)\n",
    "chrome_webdriver_options = Options()"
   ]
  },
  {
   "cell_type": "markdown",
   "id": "2946a515",
   "metadata": {
    "heading_collapsed": true
   },
   "source": [
    "### Workflow Pre-Requisites\n",
    "\n",
    "These are Python variables that use the input variables specified immediately above."
   ]
  },
  {
   "cell_type": "markdown",
   "id": "d7660929-87b2-4bb4-a464-eec7cf0523fa",
   "metadata": {
    "hidden": true
   },
   "source": [
    "<a id='define-web-driver'></a>\n",
    "\n",
    "## 3. Define Web Driver"
   ]
  },
  {
   "cell_type": "code",
   "execution_count": 5,
   "id": "c2f5a4ac-4753-4f5d-ac34-f3622623e5c5",
   "metadata": {
    "hidden": true
   },
   "outputs": [],
   "source": [
    "# Create instance of Chrome webdriver\n",
    "driver = webdriver.Chrome(\n",
    "    service=webdriver_service_object, options=chrome_webdriver_options\n",
    ")"
   ]
  },
  {
   "cell_type": "markdown",
   "id": "3161ccea",
   "metadata": {
    "heading_collapsed": true
   },
   "source": [
    "### Workflow\n",
    "\n",
    "This will be the main source code of this notebook."
   ]
  },
  {
   "cell_type": "markdown",
   "id": "463c8db0-d2f0-43f5-b2a2-001a3c7cb074",
   "metadata": {
    "hidden": true
   },
   "source": [
    "<a id='get-data'></a>\n",
    "\n",
    "## 4. Get Data"
   ]
  },
  {
   "cell_type": "markdown",
   "id": "33d3eba5-10a8-4666-825f-9b3bf17d09ce",
   "metadata": {
    "hidden": true
   },
   "source": [
    "<a id='get-urls-to-download-data-files'></a>\n",
    "\n",
    "### 4.1. Get URLs to download data files"
   ]
  },
  {
   "cell_type": "markdown",
   "id": "73e28758-e754-4f45-9399-5a3a134adc58",
   "metadata": {
    "hidden": true
   },
   "source": [
    "Retrieve HTML from the system data webpage"
   ]
  },
  {
   "cell_type": "code",
   "execution_count": 6,
   "id": "d8a66dcf-a12b-4ac6-a3ff-43cf3d91fc1b",
   "metadata": {
    "hidden": true
   },
   "outputs": [
    {
     "name": "stdout",
     "output_type": "stream",
     "text": [
      "CPU times: user 0 ns, sys: 3.44 ms, total: 3.44 ms\n",
      "Wall time: 362 ms\n"
     ]
    }
   ],
   "source": [
    "%%time\n",
    "# Get source HTML from page\n",
    "driver.get(system_data_url)"
   ]
  },
  {
   "cell_type": "markdown",
   "id": "8b359c49-e50e-499c-8f5c-79ae649986ef",
   "metadata": {
    "hidden": true
   },
   "source": [
    "Wait for HTML on page to be loaded"
   ]
  },
  {
   "cell_type": "code",
   "execution_count": 7,
   "id": "0083f398-9a0d-4058-a16a-f798124685c9",
   "metadata": {
    "hidden": true
   },
   "outputs": [],
   "source": [
    "# simple wait is sufficient; other approaches are possible too\n",
    "sleep(1)"
   ]
  },
  {
   "cell_type": "markdown",
   "id": "f8fdfd2f-273c-415c-8ee7-7f03dc22f452",
   "metadata": {
    "hidden": true
   },
   "source": [
    "Get table object and the table headers"
   ]
  },
  {
   "cell_type": "code",
   "execution_count": 8,
   "id": "1770f5fb-3dc3-4cc5-a1ce-fe3f276ef4fb",
   "metadata": {
    "hidden": true
   },
   "outputs": [
    {
     "name": "stdout",
     "output_type": "stream",
     "text": [
      "CPU times: user 3.1 ms, sys: 3.89 ms, total: 6.99 ms\n",
      "Wall time: 65.1 ms\n"
     ]
    }
   ],
   "source": [
    "%%time\n",
    "# Get table object\n",
    "container = driver.find_element(By.XPATH, './/div[@class=\"container\"]')\n",
    "table_id = container.find_element(\n",
    "    By.XPATH, \"//table[@class='hide-while-loading table table-striped']/tbody\"\n",
    ")\n",
    "\n",
    "# Get text from table headers\n",
    "header = container.find_element(\n",
    "    By.XPATH, \"//table[@class='hide-while-loading table table-striped']/thead\"\n",
    ")\n",
    "headers = [h.text for h in header.find_elements(By.CSS_SELECTOR, \"th\")]"
   ]
  },
  {
   "cell_type": "markdown",
   "id": "070840b4-0469-4750-8b0e-4968e86a6b46",
   "metadata": {
    "hidden": true
   },
   "source": [
    "Extract a `DataFrame` of all available metadata from the table object, including a column with the URLs to the data to be downloaded"
   ]
  },
  {
   "cell_type": "code",
   "execution_count": 9,
   "id": "c11a4bb1-c1a3-4dba-b30c-68b9a08202cb",
   "metadata": {
    "hidden": true
   },
   "outputs": [
    {
     "name": "stdout",
     "output_type": "stream",
     "text": [
      "CPU times: user 208 ms, sys: 0 ns, total: 208 ms\n",
      "Wall time: 2.19 s\n"
     ]
    },
    {
     "data": {
      "text/html": [
       "<div>\n",
       "<style scoped>\n",
       "    .dataframe tbody tr th:only-of-type {\n",
       "        vertical-align: middle;\n",
       "    }\n",
       "\n",
       "    .dataframe tbody tr th {\n",
       "        vertical-align: top;\n",
       "    }\n",
       "\n",
       "    .dataframe thead th {\n",
       "        text-align: right;\n",
       "    }\n",
       "</style>\n",
       "<table border=\"1\" class=\"dataframe\">\n",
       "  <thead>\n",
       "    <tr style=\"text-align: right;\">\n",
       "      <th></th>\n",
       "      <th>Name</th>\n",
       "      <th>Date Modified</th>\n",
       "      <th>zip_file_url</th>\n",
       "    </tr>\n",
       "  </thead>\n",
       "  <tbody>\n",
       "    <tr>\n",
       "      <th>0</th>\n",
       "      <td>2010-capitalbikeshare-tripdata.zip</td>\n",
       "      <td>Mar 15th 2018, 06:33:31 pm</td>\n",
       "      <td>https://s3.amazonaws.com/capitalbikeshare-data...</td>\n",
       "    </tr>\n",
       "    <tr>\n",
       "      <th>1</th>\n",
       "      <td>2011-capitalbikeshare-tripdata.zip</td>\n",
       "      <td>Mar 15th 2018, 06:45:30 pm</td>\n",
       "      <td>https://s3.amazonaws.com/capitalbikeshare-data...</td>\n",
       "    </tr>\n",
       "    <tr>\n",
       "      <th>2</th>\n",
       "      <td>2012-capitalbikeshare-tripdata.zip</td>\n",
       "      <td>Mar 15th 2018, 06:55:27 pm</td>\n",
       "      <td>https://s3.amazonaws.com/capitalbikeshare-data...</td>\n",
       "    </tr>\n",
       "  </tbody>\n",
       "</table>\n",
       "</div>"
      ],
      "text/plain": [
       "                                 Name               Date Modified  \\\n",
       "0  2010-capitalbikeshare-tripdata.zip  Mar 15th 2018, 06:33:31 pm   \n",
       "1  2011-capitalbikeshare-tripdata.zip  Mar 15th 2018, 06:45:30 pm   \n",
       "2  2012-capitalbikeshare-tripdata.zip  Mar 15th 2018, 06:55:27 pm   \n",
       "\n",
       "                                        zip_file_url  \n",
       "0  https://s3.amazonaws.com/capitalbikeshare-data...  \n",
       "1  https://s3.amazonaws.com/capitalbikeshare-data...  \n",
       "2  https://s3.amazonaws.com/capitalbikeshare-data...  "
      ]
     },
     "execution_count": 9,
     "metadata": {},
     "output_type": "execute_result"
    }
   ],
   "source": [
    "%%time\n",
    "# Extract all rows of metadata from the table\n",
    "list_dfs_all_rows = []\n",
    "# Iterate over rows\n",
    "for row in table_id.find_elements(By.CSS_SELECTOR, \"tr\"):\n",
    "    list_single_row = []\n",
    "    zip_file_urls = []\n",
    "    # Iterate over columns per row\n",
    "    for col_idx, cell in enumerate(row.find_elements(By.TAG_NAME, \"td\")[:2]):\n",
    "        # Get link to zip data file (in first column only)\n",
    "        if col_idx == 0:\n",
    "            data_zip_url = cell.find_element(By.CSS_SELECTOR, \"a\").get_attribute(\"href\")\n",
    "            zip_file_urls.append(data_zip_url)\n",
    "        # Append contents of single row to empty list\n",
    "        list_single_row.append(cell.text)\n",
    "    # Get the data URLs from all rows except the last row\n",
    "    if list_single_row[0] != \"index.html\":\n",
    "        # Create single-row DataFrame from nested list\n",
    "        df_single_row = pd.DataFrame.from_records(\n",
    "            [{h: r for h, r in zip(headers, list_single_row)}]\n",
    "        )\n",
    "        # Append column with zip data file links\n",
    "        df_single_row[\"zip_file_url\"] = zip_file_urls\n",
    "        # Append single-row DataFrame to empty list\n",
    "        list_dfs_all_rows.append(df_single_row)\n",
    "\n",
    "# Combine list of single-row DataFrames into one DataFrame\n",
    "df = pd.concat(list_dfs_all_rows, ignore_index=True)\n",
    "df.head(3)"
   ]
  },
  {
   "cell_type": "markdown",
   "id": "3e2d0894-3947-41ae-bf13-2226eaf68062",
   "metadata": {
    "hidden": true
   },
   "source": [
    "Select data from the required year (2021)"
   ]
  },
  {
   "cell_type": "code",
   "execution_count": 10,
   "id": "055dfc5b-f178-47aa-9b4e-e107fc5b3de5",
   "metadata": {
    "hidden": true,
    "scrolled": true
   },
   "outputs": [
    {
     "data": {
      "text/html": [
       "<div>\n",
       "<style scoped>\n",
       "    .dataframe tbody tr th:only-of-type {\n",
       "        vertical-align: middle;\n",
       "    }\n",
       "\n",
       "    .dataframe tbody tr th {\n",
       "        vertical-align: top;\n",
       "    }\n",
       "\n",
       "    .dataframe thead th {\n",
       "        text-align: right;\n",
       "    }\n",
       "</style>\n",
       "<table border=\"1\" class=\"dataframe\">\n",
       "  <thead>\n",
       "    <tr style=\"text-align: right;\">\n",
       "      <th></th>\n",
       "      <th>Name</th>\n",
       "      <th>Date Modified</th>\n",
       "      <th>zip_file_url</th>\n",
       "    </tr>\n",
       "  </thead>\n",
       "  <tbody>\n",
       "    <tr>\n",
       "      <th>44</th>\n",
       "      <td>202101-capitalbikeshare-tripdata.zip</td>\n",
       "      <td>Feb 4th 2021, 04:55:29 pm</td>\n",
       "      <td>https://s3.amazonaws.com/capitalbikeshare-data...</td>\n",
       "    </tr>\n",
       "    <tr>\n",
       "      <th>45</th>\n",
       "      <td>202102-capitalbikeshare-tripdata.zip</td>\n",
       "      <td>Mar 9th 2021, 07:07:41 pm</td>\n",
       "      <td>https://s3.amazonaws.com/capitalbikeshare-data...</td>\n",
       "    </tr>\n",
       "    <tr>\n",
       "      <th>46</th>\n",
       "      <td>202103-capitalbikeshare-tripdata.zip</td>\n",
       "      <td>Apr 8th 2021, 10:31:40 am</td>\n",
       "      <td>https://s3.amazonaws.com/capitalbikeshare-data...</td>\n",
       "    </tr>\n",
       "  </tbody>\n",
       "</table>\n",
       "</div>"
      ],
      "text/plain": [
       "                                    Name              Date Modified  \\\n",
       "44  202101-capitalbikeshare-tripdata.zip  Feb 4th 2021, 04:55:29 pm   \n",
       "45  202102-capitalbikeshare-tripdata.zip  Mar 9th 2021, 07:07:41 pm   \n",
       "46  202103-capitalbikeshare-tripdata.zip  Apr 8th 2021, 10:31:40 am   \n",
       "\n",
       "                                         zip_file_url  \n",
       "44  https://s3.amazonaws.com/capitalbikeshare-data...  \n",
       "45  https://s3.amazonaws.com/capitalbikeshare-data...  \n",
       "46  https://s3.amazonaws.com/capitalbikeshare-data...  "
      ]
     },
     "execution_count": 10,
     "metadata": {},
     "output_type": "execute_result"
    }
   ],
   "source": [
    "df = df[df[\"Name\"].str[:4] == years_to_use_str]\n",
    "df.head(3)"
   ]
  },
  {
   "cell_type": "markdown",
   "id": "01186a92-a518-480e-905f-6df7df2525ff",
   "metadata": {
    "hidden": true
   },
   "source": [
    "Convert the `Date Modified` column to `datetime`"
   ]
  },
  {
   "cell_type": "code",
   "execution_count": 11,
   "id": "84f4508c-ac7d-4dc9-8c24-fa77c6a24153",
   "metadata": {
    "hidden": true
   },
   "outputs": [
    {
     "data": {
      "text/html": [
       "<div>\n",
       "<style scoped>\n",
       "    .dataframe tbody tr th:only-of-type {\n",
       "        vertical-align: middle;\n",
       "    }\n",
       "\n",
       "    .dataframe tbody tr th {\n",
       "        vertical-align: top;\n",
       "    }\n",
       "\n",
       "    .dataframe thead th {\n",
       "        text-align: right;\n",
       "    }\n",
       "</style>\n",
       "<table border=\"1\" class=\"dataframe\">\n",
       "  <thead>\n",
       "    <tr style=\"text-align: right;\">\n",
       "      <th></th>\n",
       "      <th>Name</th>\n",
       "      <th>Date Modified</th>\n",
       "      <th>zip_file_url</th>\n",
       "    </tr>\n",
       "  </thead>\n",
       "  <tbody>\n",
       "    <tr>\n",
       "      <th>44</th>\n",
       "      <td>202101-capitalbikeshare-tripdata.zip</td>\n",
       "      <td>2021-02-04 16:55:29</td>\n",
       "      <td>https://s3.amazonaws.com/capitalbikeshare-data...</td>\n",
       "    </tr>\n",
       "    <tr>\n",
       "      <th>45</th>\n",
       "      <td>202102-capitalbikeshare-tripdata.zip</td>\n",
       "      <td>2021-03-09 19:07:41</td>\n",
       "      <td>https://s3.amazonaws.com/capitalbikeshare-data...</td>\n",
       "    </tr>\n",
       "    <tr>\n",
       "      <th>46</th>\n",
       "      <td>202103-capitalbikeshare-tripdata.zip</td>\n",
       "      <td>2021-04-08 10:31:40</td>\n",
       "      <td>https://s3.amazonaws.com/capitalbikeshare-data...</td>\n",
       "    </tr>\n",
       "  </tbody>\n",
       "</table>\n",
       "</div>"
      ],
      "text/plain": [
       "                                    Name       Date Modified  \\\n",
       "44  202101-capitalbikeshare-tripdata.zip 2021-02-04 16:55:29   \n",
       "45  202102-capitalbikeshare-tripdata.zip 2021-03-09 19:07:41   \n",
       "46  202103-capitalbikeshare-tripdata.zip 2021-04-08 10:31:40   \n",
       "\n",
       "                                         zip_file_url  \n",
       "44  https://s3.amazonaws.com/capitalbikeshare-data...  \n",
       "45  https://s3.amazonaws.com/capitalbikeshare-data...  \n",
       "46  https://s3.amazonaws.com/capitalbikeshare-data...  "
      ]
     },
     "execution_count": 11,
     "metadata": {},
     "output_type": "execute_result"
    }
   ],
   "source": [
    "df[\"Date Modified\"] = pd.to_datetime(df[\"Date Modified\"])\n",
    "df.head(3)"
   ]
  },
  {
   "cell_type": "markdown",
   "id": "23684609-6103-4e24-9b7e-34e4499cbca1",
   "metadata": {
    "hidden": true
   },
   "source": [
    "**Notes**\n",
    "1. The following columns of metadata have been extracted\n",
    "   - `Name` (string)\n",
    "     - name of the zip file containing the ridership data\n",
    "   - `Date Modified` (datetime)\n",
    "     - date on which the data (zip file) was posted to the public data portal\n",
    "   - `zip_file_url` (string)\n",
    "     - full path to download the zip file with data"
   ]
  },
  {
   "cell_type": "markdown",
   "id": "862abf5b",
   "metadata": {
    "hidden": true
   },
   "source": [
    "<a id='download-bikeshare-ridership-data-files'></a>\n",
    "\n",
    "### 4.2. Download Bikeshare Ridership Data Files"
   ]
  },
  {
   "cell_type": "markdown",
   "id": "6f0f43c0-c134-4711-b2f1-c6cabbce4def",
   "metadata": {
    "hidden": true
   },
   "source": [
    "We will now download each of the data files in the `zip_file_url` column of the above `DataFrame`, and extract their contents without saving the zip file to disk ([link](https://stackoverflow.com/a/65106410/4057186))"
   ]
  },
  {
   "cell_type": "code",
   "execution_count": 12,
   "id": "bb5b489c",
   "metadata": {
    "hidden": true,
    "tags": []
   },
   "outputs": [
    {
     "name": "stdout",
     "output_type": "stream",
     "text": [
      "Saved data from https://s3.amazonaws.com/capitalbikeshare to data/raw/202101-capitalbikeshare-tripdata.csv\n",
      "Saved data from https://s3.amazonaws.com/capitalbikeshare to data/raw/202102-capitalbikeshare-tripdata.csv\n",
      "Saved data from https://s3.amazonaws.com/capitalbikeshare to data/raw/202103-capitalbikeshare-tripdata.csv\n",
      "Saved data from https://s3.amazonaws.com/capitalbikeshare to data/raw/202104-capitalbikeshare-tripdata.csv\n",
      "Saved data from https://s3.amazonaws.com/capitalbikeshare to data/raw/202105-capitalbikeshare-tripdata.csv\n",
      "Saved data from https://s3.amazonaws.com/capitalbikeshare to data/raw/202106-capitalbikeshare-tripdata.csv\n",
      "Saved data from https://s3.amazonaws.com/capitalbikeshare to data/raw/202107-capitalbikeshare-tripdata.csv\n",
      "Saved data from https://s3.amazonaws.com/capitalbikeshare to data/raw/202108-capitalbikeshare-tripdata.csv\n",
      "Saved data from https://s3.amazonaws.com/capitalbikeshare to data/raw/202109-capitalbikeshare-tripdata.csv\n",
      "Saved data from https://s3.amazonaws.com/capitalbikeshare to data/raw/202110-capitalbikeshare-tripdata.csv\n",
      "Saved data from https://s3.amazonaws.com/capitalbikeshare to data/raw/202111-capitalbikeshare-tripdata.csv\n",
      "Saved data from https://s3.amazonaws.com/capitalbikeshare to data/raw/202112-capitalbikeshare-tripdata.csv\n",
      "CPU times: user 1.85 s, sys: 525 ms, total: 2.37 s\n",
      "Wall time: 15 s\n"
     ]
    }
   ],
   "source": [
    "%%time\n",
    "for _, row in df.iterrows():\n",
    "    # Get full url for the zip file from zip_file_url column\n",
    "    zipurl = row[\"zip_file_url\"]\n",
    "    # Extract without saving\n",
    "    with urlopen(zipurl) as zipresp:\n",
    "        with ZipFile(BytesIO(zipresp.read())) as zfile:\n",
    "            zfile.extractall(f'data/raw')\n",
    "    print(\n",
    "        f\"Saved data from {zipurl.split('-', 1)[0]} to \"\n",
    "        f\"data/raw/{os.path.basename(zipurl).replace('.zip', '.csv')}\"\n",
    "    )"
   ]
  },
  {
   "cell_type": "markdown",
   "id": "054f7419-a4c4-4a9d-abef-ae71c0f6d753",
   "metadata": {
    "hidden": true,
    "tags": []
   },
   "source": [
    "<a id='close-web-driver'></a>\n",
    "\n",
    "## 5. Close Web Driver"
   ]
  },
  {
   "cell_type": "code",
   "execution_count": 13,
   "id": "b5c080a4-dc04-49f0-b98c-0e12a57b4be7",
   "metadata": {
    "hidden": true
   },
   "outputs": [],
   "source": [
    "# Close the browser window\n",
    "driver.quit()"
   ]
  },
  {
   "cell_type": "markdown",
   "id": "4b2c97d4",
   "metadata": {
    "heading_collapsed": true
   },
   "source": [
    "### Use a Footer to Direct Users to the Previous / Next notebook"
   ]
  },
  {
   "cell_type": "markdown",
   "id": "a5bde8e8-d139-4e25-80c5-4ebfbda72ffc",
   "metadata": {
    "hidden": true
   },
   "source": [
    "---"
   ]
  },
  {
   "cell_type": "markdown",
   "id": "224da5b1",
   "metadata": {
    "hidden": true
   },
   "source": [
    "<span style=\"float:left;\">\n",
    "    <a href=\"./01_dont_do_this.ipynb\"><< 01_dont_do_this.ipynb</a>\n",
    "</span>\n",
    "\n",
    "<span style=\"float:right;\">\n",
    "    &#169; 2022 | <a href=\"https://github.com/elsdes3/documentation-tips\\\">@elsdes3</a> (MIT)\n",
    "</span>"
   ]
  }
 ],
 "metadata": {
  "kernelspec": {
   "display_name": "Python 3 (ipykernel)",
   "language": "python",
   "name": "python3"
  },
  "language_info": {
   "codemirror_mode": {
    "name": "ipython",
    "version": 3
   },
   "file_extension": ".py",
   "mimetype": "text/x-python",
   "name": "python",
   "nbconvert_exporter": "python",
   "pygments_lexer": "ipython3",
   "version": "3.9.7"
  }
 },
 "nbformat": 4,
 "nbformat_minor": 5
}
