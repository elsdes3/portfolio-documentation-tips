{
 "cells": [
  {
   "cell_type": "markdown",
   "id": "2f14f065",
   "metadata": {},
   "source": [
    "# Data Acquisition"
   ]
  },
  {
   "cell_type": "markdown",
   "id": "7ad404b5",
   "metadata": {
    "heading_collapsed": true
   },
   "source": [
    "### Use Markdown\n",
    "\n",
    "For tips on text formatting in Markdown, refer to the official [Markdown Guide](https://www.markdownguide.org/basic-syntax)."
   ]
  },
  {
   "cell_type": "markdown",
   "id": "8cf2874c",
   "metadata": {
    "heading_collapsed": true
   },
   "source": [
    "### All Python Imports should be Sorted\n",
    "\n",
    "This is a [best practice](https://www.python.org/dev/peps/pep-0008/#imports). The order (and some examples) should be\n",
    "- Python standard library\n",
    "  - `os`\n",
    "  - `json`\n",
    "  - `datetime`\n",
    "- third party libraries\n",
    "  - `numpy`\n",
    "  - `pandas`\n",
    "  - `pyspark`\n",
    "- your custom library (see [the best practice](https://www.python.org/dev/peps/pep-0008/#package-and-module-names) for how to name your library)\n",
    "  - `from bikesharelib import capital_bikeshare_data_loader`"
   ]
  },
  {
   "cell_type": "code",
   "execution_count": 6,
   "id": "55a6fe14",
   "metadata": {
    "hidden": true
   },
   "outputs": [
    {
     "data": {
      "application/javascript": [
       "\n",
       "            setTimeout(function() {\n",
       "                var nbb_cell_id = 6;\n",
       "                var nbb_unformatted_code = \"%load_ext nb_black\";\n",
       "                var nbb_formatted_code = \"%load_ext nb_black\";\n",
       "                var nbb_cells = Jupyter.notebook.get_cells();\n",
       "                for (var i = 0; i < nbb_cells.length; ++i) {\n",
       "                    if (nbb_cells[i].input_prompt_number == nbb_cell_id) {\n",
       "                        if (nbb_cells[i].get_text() == nbb_unformatted_code) {\n",
       "                             nbb_cells[i].set_text(nbb_formatted_code);\n",
       "                        }\n",
       "                        break;\n",
       "                    }\n",
       "                }\n",
       "            }, 500);\n",
       "            "
      ],
      "text/plain": [
       "<IPython.core.display.Javascript object>"
      ]
     },
     "metadata": {},
     "output_type": "display_data"
    }
   ],
   "source": [
    "# Jupyter magics\n",
    "%load_ext nb_black"
   ]
  },
  {
   "cell_type": "code",
   "execution_count": 7,
   "id": "da94582b-92c3-496c-afd5-fea5bf1dcc83",
   "metadata": {
    "hidden": true
   },
   "outputs": [
    {
     "data": {
      "application/javascript": [
       "\n",
       "            setTimeout(function() {\n",
       "                var nbb_cell_id = 7;\n",
       "                var nbb_unformatted_code = \"import os\\n\\nimport pandas as pd\\nfrom selenium import webdriver\\nfrom selenium.webdriver.common.by import By\\nfrom selenium.webdriver.chrome.options import Options\\nfrom selenium.webdriver.chrome.service import Service\";\n",
       "                var nbb_formatted_code = \"import os\\n\\nimport pandas as pd\\nfrom selenium import webdriver\\nfrom selenium.webdriver.common.by import By\\nfrom selenium.webdriver.chrome.options import Options\\nfrom selenium.webdriver.chrome.service import Service\";\n",
       "                var nbb_cells = Jupyter.notebook.get_cells();\n",
       "                for (var i = 0; i < nbb_cells.length; ++i) {\n",
       "                    if (nbb_cells[i].input_prompt_number == nbb_cell_id) {\n",
       "                        if (nbb_cells[i].get_text() == nbb_unformatted_code) {\n",
       "                             nbb_cells[i].set_text(nbb_formatted_code);\n",
       "                        }\n",
       "                        break;\n",
       "                    }\n",
       "                }\n",
       "            }, 500);\n",
       "            "
      ],
      "text/plain": [
       "<IPython.core.display.Javascript object>"
      ]
     },
     "metadata": {},
     "output_type": "display_data"
    }
   ],
   "source": [
    "import os\n",
    "\n",
    "import pandas as pd\n",
    "from selenium import webdriver\n",
    "from selenium.webdriver.common.by import By\n",
    "from selenium.webdriver.chrome.options import Options\n",
    "from selenium.webdriver.chrome.service import Service"
   ]
  },
  {
   "cell_type": "markdown",
   "id": "d96e7530",
   "metadata": {
    "heading_collapsed": true
   },
   "source": [
    "### Use html to create a table of contents at the start of the notebook\n",
    "\n",
    "**Benefits**\n",
    "\n",
    "1. guides the audience when navigating through the notebook\n",
    "2. overview of notebook objectives through [**Level 2** headings](https://www.markdownguide.org/basic-syntax/#headings)\n",
    "   - go directly to a section or sub-section\n",
    "   - do not need to read the whole notebook\n",
    "\n",
    "**Usage**\n",
    "\n",
    "Uses [HTML hyperlinks](https://www.w3schools.com/tags/tag_a.asp) `<a>` and the value of the `id` attribute will be refrenced elsewhere in the notebook."
   ]
  },
  {
   "cell_type": "markdown",
   "id": "9afbdd47-bf1a-4799-828f-8de76c1e87ef",
   "metadata": {
    "hidden": true
   },
   "source": [
    "<a id='table-of-contents'></a>\n",
    "\n",
    "## [Table of Contents](#table-of-contents)"
   ]
  },
  {
   "cell_type": "markdown",
   "id": "6ffbb725-a9b8-42d4-b260-88ccdf5176a1",
   "metadata": {
    "hidden": true
   },
   "source": [
    "1. [About](#about)\n",
    "2. [User Inputs](#user-inputs)\n",
    "3. [Define Web Driver](#define-web-driver)\n",
    "4. [Get Data](#get-data)\n",
    "   - 4.1. [Download Metadata](#download-metadata)\n",
    "   - 4.2. [Download Bikeshare Ridership Data Files](#download-bikeshare-ridership-data-files)\n",
    "5. [Close Web Driver](#close-web-driver)\n",
    "6. [Process Data](#process-data)\n",
    "7. [Links](#links)"
   ]
  },
  {
   "cell_type": "markdown",
   "id": "dd62c1e3",
   "metadata": {
    "heading_collapsed": true
   },
   "source": [
    "### Introduction / Overview\n",
    "\n",
    "This should be an overview of what the notebook covers. Everything here should guide the user to what they will encounter as they continue reading the notebook.\n",
    "\n",
    "Some examples\n",
    "- if there are important pre-requisites, they can be included here. Some examples are\n",
    "  - this notebook was run with the\n",
    "    - Google Chrome web browser (version 97.0.4692.71)\n",
    "    - ChromeDriver 97.0.4692.71 from the [Chromedriver downloads section](https://chromedriver.chromium.org/downloads)\n",
    "- significant project-level assumptions that affect the workflow in **this notebook only** should be included here too\n",
    "  - if there are assumptions affecting all notebooks, then they should be added to be `README.md` file for the project"
   ]
  },
  {
   "cell_type": "markdown",
   "id": "db378947-59b4-4366-a43d-58f88a87f9de",
   "metadata": {
    "hidden": true
   },
   "source": [
    "<a id='about'></a>\n",
    "\n",
    "## 1. [About](#about)"
   ]
  },
  {
   "cell_type": "markdown",
   "id": "bd916b95-7997-4d2c-b9cc-004ac3976752",
   "metadata": {
    "hidden": true
   },
   "source": [
    "This notebook will cover bikeshare ridership data collection from the [Capital Bikeshare system data page](https://www.capitalbikeshare.com/system-data).\n",
    "\n",
    "**Prerequisites**\n",
    "1. This notebook was run with\n",
    "   - Google Chrome web browser (version 97.0.4692.71)\n",
    "   - ChromeDriver 97.0.4692.71 from the [Chromedriver downloads section](https://chromedriver.chromium.org/downloads)"
   ]
  },
  {
   "cell_type": "markdown",
   "id": "e4b75d7a",
   "metadata": {
    "heading_collapsed": true
   },
   "source": [
    "### Input (Python) Variables\n",
    "\n",
    "These are Python variables that won't be changed later in this notebook.\n",
    "\n",
    "**Tip**\n",
    "\n",
    "After this cell is changed, we should be able to run all the following cells of this notebook with no errors."
   ]
  },
  {
   "cell_type": "markdown",
   "id": "526debe9-c2ac-4845-9418-307411f8a400",
   "metadata": {
    "hidden": true
   },
   "source": [
    "<a id='define-web-driver'></a>\n",
    "\n",
    "## 2. [User Inputs](#user-inputs)"
   ]
  },
  {
   "cell_type": "code",
   "execution_count": null,
   "id": "b31e5b05-515f-477c-bfeb-c5aa865075f7",
   "metadata": {
    "hidden": true,
    "tags": [
     "parameters"
    ]
   },
   "outputs": [],
   "source": [
    "# Get user name\n",
    "user_name = os.getenv(\"USERNAME\")\n",
    "\n",
    "# Link to data files\n",
    "system_data_url = \"https://s3.amazonaws.com/capitalbikeshare-data/index.html\"\n",
    "\n",
    "# Path to the Chrome webdriver on local system\n",
    "webdriver_path = f\"/home/{user_name}/chromedriver_linux64/chromedriver\""
   ]
  },
  {
   "cell_type": "code",
   "execution_count": null,
   "id": "6a011909-ef09-4b3e-a231-d58a67b51efa",
   "metadata": {
    "hidden": true
   },
   "outputs": [],
   "source": [
    "# Create ChromeDriver service object\n",
    "webdriver_service_object = Service(webdriver_path)\n",
    "chrome_webdriver_options = Options()"
   ]
  },
  {
   "cell_type": "markdown",
   "id": "2946a515",
   "metadata": {
    "heading_collapsed": true
   },
   "source": [
    "### Workflow Pre-Requisites\n",
    "\n",
    "These are Python variables that use the input variables specified immediately above."
   ]
  },
  {
   "cell_type": "markdown",
   "id": "d7660929-87b2-4bb4-a464-eec7cf0523fa",
   "metadata": {
    "hidden": true
   },
   "source": [
    "<a id='define-web-driver'></a>\n",
    "\n",
    "## 3. [Define Web Driver](#define-web-driver)"
   ]
  },
  {
   "cell_type": "code",
   "execution_count": null,
   "id": "c2f5a4ac-4753-4f5d-ac34-f3622623e5c5",
   "metadata": {
    "hidden": true
   },
   "outputs": [],
   "source": [
    "# Create instance of Chrome webdriver\n",
    "driver = webdriver.Chrome(service=webdriver_service_object, options=chrome_webdriver_options)"
   ]
  },
  {
   "cell_type": "markdown",
   "id": "3161ccea",
   "metadata": {
    "heading_collapsed": true
   },
   "source": [
    "### Workflow\n",
    "\n",
    "This will be the main source code of this notebook."
   ]
  },
  {
   "cell_type": "markdown",
   "id": "463c8db0-d2f0-43f5-b2a2-001a3c7cb074",
   "metadata": {
    "hidden": true
   },
   "source": [
    "<a id='get-data'></a>\n",
    "\n",
    "## 4. [Get Data](#get-data)"
   ]
  },
  {
   "cell_type": "markdown",
   "id": "57e21126",
   "metadata": {
    "hidden": true
   },
   "source": [
    "<a id='download-metadata'></a>\n",
    "\n",
    "### 4.1. [Download Metadata](#download-metadata)"
   ]
  },
  {
   "cell_type": "markdown",
   "id": "73e28758-e754-4f45-9399-5a3a134adc58",
   "metadata": {
    "hidden": true
   },
   "source": [
    "Retrieve HTML from the system data webpage"
   ]
  },
  {
   "cell_type": "code",
   "execution_count": null,
   "id": "d8a66dcf-a12b-4ac6-a3ff-43cf3d91fc1b",
   "metadata": {
    "hidden": true
   },
   "outputs": [],
   "source": [
    "%%time\n",
    "# Get source HTML from page\n",
    "driver.get(system_data_url)"
   ]
  },
  {
   "cell_type": "markdown",
   "id": "f8fdfd2f-273c-415c-8ee7-7f03dc22f452",
   "metadata": {
    "hidden": true
   },
   "source": [
    "Get table object and the table headers"
   ]
  },
  {
   "cell_type": "code",
   "execution_count": null,
   "id": "1770f5fb-3dc3-4cc5-a1ce-fe3f276ef4fb",
   "metadata": {
    "hidden": true
   },
   "outputs": [],
   "source": [
    "%%time\n",
    "# Get table object\n",
    "container = driver.find_element(By.XPATH, './/div[@class=\"container\"]')\n",
    "table_id = container.find_element(By.XPATH, \"//table[@class='hide-while-loading table table-striped']/tbody\")\n",
    "\n",
    "# Get text from table headers\n",
    "header = container.find_element(By.XPATH, \"//table[@class='hide-while-loading table table-striped']/thead\")\n",
    "headers = [h.text for h in header.find_elements(By.CSS_SELECTOR, \"th\")]"
   ]
  },
  {
   "cell_type": "markdown",
   "id": "070840b4-0469-4750-8b0e-4968e86a6b46",
   "metadata": {
    "hidden": true
   },
   "source": [
    "Extract a `DataFrame` of all available metadata from the table object"
   ]
  },
  {
   "cell_type": "code",
   "execution_count": null,
   "id": "f112c385-414c-4f72-a8ad-a055f673ee82",
   "metadata": {
    "hidden": true
   },
   "outputs": [],
   "source": [
    "%%time\n",
    "# Extract all rows of metadata from the table\n",
    "list_dfs_all_rows = []\n",
    "# Iterate over rows\n",
    "for row in table_id.find_elements(By.CSS_SELECTOR, \"tr\"):\n",
    "    list_single_row = []\n",
    "    zip_file_urls = []\n",
    "    # Iterate over columns per row\n",
    "    for col_idx, cell in enumerate(row.find_elements(By.TAG_NAME, \"td\")):\n",
    "        # Get link to zip data file (in first column only)\n",
    "        if col_idx == 0:\n",
    "            data_zip_url = cell.find_element(By.CSS_SELECTOR, \"a\").get_attribute(\"href\")\n",
    "            zip_file_urls.append(data_zip_url)\n",
    "        # Append contents of single row to empty list\n",
    "        list_single_row.append(cell.text)\n",
    "    # Create single-row DataFrame from nested list\n",
    "    df_single_row = pd.DataFrame.from_records([{h: r for h, r in zip(headers, list_single_row)}])\n",
    "    # Append column with zip data file links\n",
    "    df_single_row[\"zip_file_url\"] = zip_file_urls\n",
    "    list_dfs_all_rows.append(df_single_row)"
   ]
  },
  {
   "cell_type": "code",
   "execution_count": null,
   "id": "4d07d280-41a9-44bf-80d6-f53773f89ba8",
   "metadata": {
    "hidden": true
   },
   "outputs": [],
   "source": [
    "# Combine list of single-row DataFrames into one DataFrame\n",
    "df = pd.concat(list_dfs_all_rows, ignore_index=True)\n",
    "with pd.option_context('display.max_colwidth', 100):\n",
    "    display(df.head().append(df.tail()))"
   ]
  },
  {
   "cell_type": "markdown",
   "id": "862abf5b",
   "metadata": {
    "hidden": true
   },
   "source": [
    "<a id='download-bikeshare-ridership-data-files'></a>\n",
    "\n",
    "### 4.2. [Download Bikeshare Ridership Data Files](#download-bikeshare-ridership-data-files)"
   ]
  },
  {
   "cell_type": "code",
   "execution_count": null,
   "id": "bb5b489c",
   "metadata": {
    "hidden": true
   },
   "outputs": [],
   "source": []
  },
  {
   "cell_type": "markdown",
   "id": "054f7419-a4c4-4a9d-abef-ae71c0f6d753",
   "metadata": {
    "hidden": true
   },
   "source": [
    "<a id='close-web-driver'></a>\n",
    "\n",
    "## 5. [Close Web Driver](#close-web-driver)"
   ]
  },
  {
   "cell_type": "code",
   "execution_count": null,
   "id": "b5c080a4-dc04-49f0-b98c-0e12a57b4be7",
   "metadata": {
    "hidden": true
   },
   "outputs": [],
   "source": [
    "# Close the browser window\n",
    "driver.quit()"
   ]
  },
  {
   "cell_type": "markdown",
   "id": "a591cde6-5634-4a7b-be8d-a7f7e9ad846c",
   "metadata": {
    "hidden": true
   },
   "source": [
    "<a id='process-data'></a>\n",
    "\n",
    "## 6. [Process Data](#process-data)"
   ]
  },
  {
   "cell_type": "markdown",
   "id": "8fdf8025-ffa3-45b2-a3e4-61859149e05b",
   "metadata": {
    "hidden": true
   },
   "source": [
    "For each file, get data from 2021 and calculate the number of days between when the data was posted and the last hour of data in that file"
   ]
  },
  {
   "cell_type": "code",
   "execution_count": null,
   "id": "0f574f36-48a3-45ae-81c7-5f296cd095b1",
   "metadata": {
    "hidden": true,
    "tags": []
   },
   "outputs": [],
   "source": [
    "%%time\n",
    "# Drop unnecessary columns\n",
    "cols_to_drop = [\"Size\", \"Type\"]\n",
    "df = df.drop(columns=cols_to_drop)\n",
    "\n",
    "# Select single year of data\n",
    "df = df[df[\"Name\"].str.startswith(\"2021\")]\n",
    "\n",
    "# Get starting year and month of the zip filename\n",
    "df[\"train_data_last_date\"] = pd.to_datetime(\n",
    "    df[\"Name\"].str.split(\"-capital\", expand=True)[0] + \"01\"\n",
    ")\n",
    "\n",
    "# Get the month end date corresponding to data in the zip file\n",
    "df[\"train_data_last_date\"] = (\n",
    "    df[\"train_data_last_date\"] + pd.offsets.MonthEnd(0) + pd.DateOffset(hours=23)\n",
    ")\n",
    "\n",
    "# Extract the number of days and hours between when the zip file was posted and the last\n",
    "# hour of data available in the zip file\n",
    "df[\"days_diff\"] = pd.to_datetime(df[\"Date Modified\"]) - df[\"train_data_last_date\"]\n",
    "\n",
    "df = df.sort_values(by=\"train_data_last_date\")\n",
    "with pd.option_context('display.max_colwidth', 100):\n",
    "    display(df)"
   ]
  },
  {
   "cell_type": "markdown",
   "id": "cd18f29b-6c02-41a0-aff2-3c1a0b71eee7",
   "metadata": {
    "hidden": true
   },
   "source": [
    "**Notes**\n",
    "1. The following columns of metadata have been extracted\n",
    "   - `Name`\n",
    "     - name of the zip file containing the ridership data\n",
    "   - `Date Modified`\n",
    "     - date on which the data (zip file) was posted\n",
    "   - `zip_file_url`\n",
    "     - full path to download the zip file with data\n",
    "   - `days_diff`\n",
    "     - number of days between when the zip file was posted and the last hour of ridership data in the zip file"
   ]
  },
  {
   "cell_type": "markdown",
   "id": "155037f4",
   "metadata": {
    "heading_collapsed": true
   },
   "source": [
    "### Workflow Resources Used - web links to non-Python Packages\n",
    "\n",
    "Add useful links to resources used in **this notebook only**."
   ]
  },
  {
   "cell_type": "markdown",
   "id": "cb741847-b835-4886-9cf1-5005b24c8a51",
   "metadata": {
    "hidden": true
   },
   "source": [
    "<a id='links'></a>\n",
    "\n",
    "## 7. [Links](#links)"
   ]
  },
  {
   "cell_type": "markdown",
   "id": "d33ae44a-da6a-46d2-b85b-edab1f9b3e6d",
   "metadata": {
    "hidden": true
   },
   "source": [
    "1. [Bikeshare System Data Page](https://www.capitalbikeshare.com/system-data)\n",
    "   - [direct link to HTML table](https://s3.amazonaws.com/capitalbikeshare-data/index.html)\n",
    "2. [Chrome webdriver download page](https://chromedriver.chromium.org/downloads)"
   ]
  },
  {
   "cell_type": "markdown",
   "id": "4b2c97d4",
   "metadata": {
    "heading_collapsed": true
   },
   "source": [
    "### Use a Footer to Direct Users to the Previous / Next notebook"
   ]
  },
  {
   "cell_type": "markdown",
   "id": "224da5b1",
   "metadata": {
    "hidden": true
   },
   "source": [
    "<span style=\"float:left;\">\n",
    "    <a href=\"./01_dont_do_this.ipynb\"><< 01_dont_do_this.ipynb</a>\n",
    "</span>\n",
    "\n",
    "<span style=\"float:right;\">\n",
    "    &#169; 2022 | <a href=\"https://github.com/elsdes3/documentation-tips\">@elsdes3</a> (MIT)\n",
    "</span>"
   ]
  }
 ],
 "metadata": {
  "kernelspec": {
   "display_name": "Python 3 (ipykernel)",
   "language": "python",
   "name": "python3"
  },
  "language_info": {
   "codemirror_mode": {
    "name": "ipython",
    "version": 3
   },
   "file_extension": ".py",
   "mimetype": "text/x-python",
   "name": "python",
   "nbconvert_exporter": "python",
   "pygments_lexer": "ipython3",
   "version": "3.9.7"
  }
 },
 "nbformat": 4,
 "nbformat_minor": 5
}
